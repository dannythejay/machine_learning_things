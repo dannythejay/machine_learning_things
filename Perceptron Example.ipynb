{
 "cells": [
  {
   "cell_type": "code",
   "execution_count": 1,
   "metadata": {},
   "outputs": [],
   "source": [
    "from numpy import array, random, dot\n",
    "from random import choice\n",
    "from pylab import ylim, plot\n",
    "from matplotlib import pyplot as plt\n",
    "%matplotlib inline"
   ]
  },
  {
   "cell_type": "code",
   "execution_count": 2,
   "metadata": {},
   "outputs": [],
   "source": [
    "# Create step function which will return 0 if input passed to it is less than 0, else return 1\n",
    "step_function = lambda x:0 if x < 0 else 1"
   ]
  },
  {
   "cell_type": "code",
   "execution_count": 3,
   "metadata": {},
   "outputs": [],
   "source": [
    "# Create trainin set - first two entries in each tuple represent input values.\n",
    "# Second element represents the expected result\n",
    "# Third element is a dummyinput (bias) which helps move threshold up or down as required by step function\n",
    "\n",
    "training_dataset = [\n",
    "    (array([0,0,1]),0),\n",
    "    (array([0,1,1]),1),\n",
    "    (array([1,0,1]),1),\n",
    "    (array([1,1,1]),1),\n",
    "    ]"
   ]
  },
  {
   "cell_type": "code",
   "execution_count": 4,
   "metadata": {},
   "outputs": [],
   "source": [
    "weights = random.rand(3)"
   ]
  },
  {
   "cell_type": "code",
   "execution_count": 5,
   "metadata": {},
   "outputs": [],
   "source": [
    "error=[]"
   ]
  },
  {
   "cell_type": "code",
   "execution_count": 6,
   "metadata": {},
   "outputs": [],
   "source": [
    "learning_rate = 0.2"
   ]
  },
  {
   "cell_type": "code",
   "execution_count": 7,
   "metadata": {},
   "outputs": [],
   "source": [
    "n=100"
   ]
  },
  {
   "cell_type": "code",
   "execution_count": 8,
   "metadata": {},
   "outputs": [],
   "source": [
    "for i in range (n):\n",
    "    x,expected = choice(training_dataset)\n",
    "    result = dot(weights,x)\n",
    "    err = expected - step_function(result)\n",
    "    error.append(err)\n",
    "    weights += learning_rate * err * x"
   ]
  },
  {
   "cell_type": "code",
   "execution_count": 9,
   "metadata": {},
   "outputs": [
    {
     "name": "stdout",
     "output_type": "stream",
     "text": [
      "[0 0]:-0.13861102393690605 -> 0\n",
      "[0 1]:0.14892027519478657 -> 1\n",
      "[1 0]:0.7560555933925254 -> 1\n",
      "[1 1]:1.043586892524218 -> 1\n"
     ]
    }
   ],
   "source": [
    "# Evaluate model\n",
    "\n",
    "for x,_ in training_dataset:\n",
    "    result = dot(x,weights)\n",
    "    print('{}:{} -> {}'.format(x[:2],result,step_function(result)))"
   ]
  },
  {
   "cell_type": "code",
   "execution_count": null,
   "metadata": {},
   "outputs": [],
   "source": []
  },
  {
   "cell_type": "code",
   "execution_count": 10,
   "metadata": {},
   "outputs": [
    {
     "data": {
      "image/png": "[encoded data removed]",
      "text/plain": [
       "<Figure size 432x288 with 1 Axes>"
      ]
     },
     "metadata": {
      "needs_background": "light"
     },
     "output_type": "display_data"
    }
   ],
   "source": [
    "ylim([-1,1])\n",
    "plot(error)\n",
    "plt.show()"
   ]
  },
  {
   "cell_type": "code",
   "execution_count": null,
   "metadata": {},
   "outputs": [],
   "source": []
  },
  {
   "cell_type": "code",
   "execution_count": null,
   "metadata": {},
   "outputs": [],
   "source": [
    "# See https://sdsclub.com/the-complete-guide-to-perceptron-algorithm-in-python/ for more info!"
   ]
  },
  {
   "cell_type": "code",
   "execution_count": null,
   "metadata": {},
   "outputs": [],
   "source": []
  },
  {
   "cell_type": "code",
   "execution_count": null,
   "metadata": {},
   "outputs": [],
   "source": []
  }
 ],
 "metadata": {
  "kernelspec": {
   "display_name": "Python 3",
   "language": "python",
   "name": "python3"
  },
  "language_info": {
   "codemirror_mode": {
    "name": "ipython",
    "version": 3
   },
   "file_extension": ".py",
   "mimetype": "text/x-python",
   "name": "python",
   "nbconvert_exporter": "python",
   "pygments_lexer": "ipython3",
   "version": "3.8.3"
  }
 },
 "nbformat": 4,
 "nbformat_minor": 4
}
